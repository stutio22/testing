{
 "cells": [
  {
   "cell_type": "markdown",
   "id": "b9157cf1-22fb-47c7-a1f4-20adaa813540",
   "metadata": {},
   "source": [
    "# My Jupyter Notebook on IBM Watson Studio"
   ]
  },
  {
   "cell_type": "markdown",
   "id": "11bcf857-e4da-4483-89d9-f81f36b8bf6b",
   "metadata": {},
   "source": [
    "**Stuti**\n",
    "Student"
   ]
  },
  {
   "cell_type": "markdown",
   "id": "7a5f235c-9b7a-4a23-a0f8-400520785af3",
   "metadata": {},
   "source": [
    "*I'm interested in data science because working with data allows us to play with knowledge.*"
   ]
  },
  {
   "cell_type": "markdown",
   "id": "6b97ef3d-172f-43e4-a7ae-e06c69cc1181",
   "metadata": {},
   "source": [
    "## the below code prints the result of 1 + 2"
   ]
  },
  {
   "cell_type": "code",
   "execution_count": 2,
   "id": "be712dcd-d088-447e-97c2-6608ef347203",
   "metadata": {},
   "outputs": [
    {
     "name": "stdout",
     "output_type": "stream",
     "text": [
      "3\n"
     ]
    }
   ],
   "source": [
    "print(1+2)"
   ]
  },
  {
   "cell_type": "markdown",
   "id": "acd44058-ab56-49bd-905d-5ce4a970c3f6",
   "metadata": {},
   "source": [
    "1. orange\n",
    "2. apple\n",
    "3. banana\n",
    "\n",
    "--- \n",
    "this is the horizontal rule\n",
    "\n",
    "---\n",
    "\n",
    "~~Strikthrough~~\n",
    "\n"
   ]
  },
  {
   "cell_type": "code",
   "execution_count": null,
   "id": "28e5eaf6-7daa-4e93-b087-ba0d048f4727",
   "metadata": {},
   "outputs": [],
   "source": []
  }
 ],
 "metadata": {
  "kernelspec": {
   "display_name": "Python",
   "language": "python",
   "name": "conda-env-python-py"
  },
  "language_info": {
   "codemirror_mode": {
    "name": "ipython",
    "version": 3
   },
   "file_extension": ".py",
   "mimetype": "text/x-python",
   "name": "python",
   "nbconvert_exporter": "python",
   "pygments_lexer": "ipython3",
   "version": "3.7.12"
  }
 },
 "nbformat": 4,
 "nbformat_minor": 5
}
